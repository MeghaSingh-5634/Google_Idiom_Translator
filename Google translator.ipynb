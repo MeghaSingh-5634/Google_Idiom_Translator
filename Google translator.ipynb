{
 "cells": [
  {
   "cell_type": "code",
   "execution_count": 2,
   "id": "62aeee6e-b30d-41fa-bfca-e5fb6c756647",
   "metadata": {},
   "outputs": [
    {
     "name": "stdout",
     "output_type": "stream",
     "text": [
      "Requirement already satisfied: deep-translator in c:\\users\\abhay pratap\\appdata\\local\\programs\\python\\python312\\lib\\site-packages (1.11.4)\n",
      "Requirement already satisfied: beautifulsoup4<5.0.0,>=4.9.1 in c:\\users\\abhay pratap\\appdata\\local\\programs\\python\\python312\\lib\\site-packages (from deep-translator) (4.12.3)\n",
      "Requirement already satisfied: requests<3.0.0,>=2.23.0 in c:\\users\\abhay pratap\\appdata\\local\\programs\\python\\python312\\lib\\site-packages (from deep-translator) (2.32.3)\n",
      "Requirement already satisfied: soupsieve>1.2 in c:\\users\\abhay pratap\\appdata\\local\\programs\\python\\python312\\lib\\site-packages (from beautifulsoup4<5.0.0,>=4.9.1->deep-translator) (2.6)\n",
      "Requirement already satisfied: charset-normalizer<4,>=2 in c:\\users\\abhay pratap\\appdata\\local\\programs\\python\\python312\\lib\\site-packages (from requests<3.0.0,>=2.23.0->deep-translator) (3.3.2)\n",
      "Requirement already satisfied: idna<4,>=2.5 in c:\\users\\abhay pratap\\appdata\\local\\programs\\python\\python312\\lib\\site-packages (from requests<3.0.0,>=2.23.0->deep-translator) (2.10)\n",
      "Requirement already satisfied: urllib3<3,>=1.21.1 in c:\\users\\abhay pratap\\appdata\\local\\programs\\python\\python312\\lib\\site-packages (from requests<3.0.0,>=2.23.0->deep-translator) (2.2.3)\n",
      "Requirement already satisfied: certifi>=2017.4.17 in c:\\users\\abhay pratap\\appdata\\local\\programs\\python\\python312\\lib\\site-packages (from requests<3.0.0,>=2.23.0->deep-translator) (2024.8.30)\n",
      "Note: you may need to restart the kernel to use updated packages.\n"
     ]
    }
   ],
   "source": [
    "pip install deep-translator"
   ]
  },
  {
   "cell_type": "code",
   "execution_count": 6,
   "id": "079a770a-3a64-4c92-97ed-d05b4e659d1d",
   "metadata": {},
   "outputs": [],
   "source": [
    "import deep_translator"
   ]
  },
  {
   "cell_type": "code",
   "execution_count": 33,
   "id": "b6ac4ec7-9b3f-4f0c-975d-9c0743aee3e8",
   "metadata": {},
   "outputs": [
    {
     "name": "stdout",
     "output_type": "stream",
     "text": [
      "Collecting pandas\n",
      "  Downloading pandas-2.2.3-cp312-cp312-win_amd64.whl.metadata (19 kB)\n",
      "Collecting numpy>=1.26.0 (from pandas)\n",
      "  Downloading numpy-2.1.2-cp312-cp312-win_amd64.whl.metadata (59 kB)\n",
      "Requirement already satisfied: python-dateutil>=2.8.2 in c:\\users\\abhay pratap\\appdata\\local\\programs\\python\\python312\\lib\\site-packages (from pandas) (2.9.0.post0)\n",
      "Collecting pytz>=2020.1 (from pandas)\n",
      "  Downloading pytz-2024.2-py2.py3-none-any.whl.metadata (22 kB)\n",
      "Collecting tzdata>=2022.7 (from pandas)\n",
      "  Downloading tzdata-2024.2-py2.py3-none-any.whl.metadata (1.4 kB)\n",
      "Requirement already satisfied: six>=1.5 in c:\\users\\abhay pratap\\appdata\\local\\programs\\python\\python312\\lib\\site-packages (from python-dateutil>=2.8.2->pandas) (1.16.0)\n",
      "Downloading pandas-2.2.3-cp312-cp312-win_amd64.whl (11.5 MB)\n",
      "   ---------------------------------------- 0.0/11.5 MB ? eta -:--:--\n",
      "   - -------------------------------------- 0.5/11.5 MB 4.2 MB/s eta 0:00:03\n",
      "   ---- ----------------------------------- 1.3/11.5 MB 4.2 MB/s eta 0:00:03\n",
      "   ------- -------------------------------- 2.1/11.5 MB 3.9 MB/s eta 0:00:03\n",
      "   ---------- ----------------------------- 2.9/11.5 MB 3.9 MB/s eta 0:00:03\n",
      "   ---------- ----------------------------- 3.1/11.5 MB 3.4 MB/s eta 0:00:03\n",
      "   ------------ --------------------------- 3.7/11.5 MB 3.4 MB/s eta 0:00:03\n",
      "   --------------- ------------------------ 4.5/11.5 MB 3.2 MB/s eta 0:00:03\n",
      "   ----------------- ---------------------- 5.0/11.5 MB 3.1 MB/s eta 0:00:03\n",
      "   -------------------- ------------------- 5.8/11.5 MB 3.1 MB/s eta 0:00:02\n",
      "   ---------------------- ----------------- 6.6/11.5 MB 3.2 MB/s eta 0:00:02\n",
      "   ----------------------- ---------------- 6.8/11.5 MB 3.3 MB/s eta 0:00:02\n",
      "   ------------------------- -------------- 7.3/11.5 MB 3.1 MB/s eta 0:00:02\n",
      "   --------------------------- ------------ 7.9/11.5 MB 3.1 MB/s eta 0:00:02\n",
      "   ------------------------------ --------- 8.9/11.5 MB 3.1 MB/s eta 0:00:01\n",
      "   -------------------------------- ------- 9.4/11.5 MB 3.1 MB/s eta 0:00:01\n",
      "   ----------------------------------- ---- 10.2/11.5 MB 3.1 MB/s eta 0:00:01\n",
      "   ------------------------------------ --- 10.5/11.5 MB 3.0 MB/s eta 0:00:01\n",
      "   -------------------------------------- - 11.0/11.5 MB 3.0 MB/s eta 0:00:01\n",
      "   ---------------------------------------  11.3/11.5 MB 2.9 MB/s eta 0:00:01\n",
      "   ---------------------------------------- 11.5/11.5 MB 2.9 MB/s eta 0:00:00\n",
      "Downloading numpy-2.1.2-cp312-cp312-win_amd64.whl (12.6 MB)\n",
      "   ---------------------------------------- 0.0/12.6 MB ? eta -:--:--\n",
      "   - -------------------------------------- 0.5/12.6 MB 4.2 MB/s eta 0:00:03\n",
      "   ---- ----------------------------------- 1.3/12.6 MB 3.9 MB/s eta 0:00:03\n",
      "   ------ --------------------------------- 2.1/12.6 MB 3.7 MB/s eta 0:00:03\n",
      "   --------- ------------------------------ 2.9/12.6 MB 3.6 MB/s eta 0:00:03\n",
      "   ---------- ----------------------------- 3.4/12.6 MB 3.4 MB/s eta 0:00:03\n",
      "   ------------ --------------------------- 3.9/12.6 MB 3.2 MB/s eta 0:00:03\n",
      "   --------------- ------------------------ 4.7/12.6 MB 3.3 MB/s eta 0:00:03\n",
      "   --------------- ------------------------ 4.7/12.6 MB 3.3 MB/s eta 0:00:03\n",
      "   ---------------- ----------------------- 5.2/12.6 MB 2.9 MB/s eta 0:00:03\n",
      "   ----------------- ---------------------- 5.5/12.6 MB 2.7 MB/s eta 0:00:03\n",
      "   ------------------ --------------------- 5.8/12.6 MB 2.5 MB/s eta 0:00:03\n",
      "   ------------------- -------------------- 6.0/12.6 MB 2.4 MB/s eta 0:00:03\n",
      "   -------------------- ------------------- 6.3/12.6 MB 2.3 MB/s eta 0:00:03\n",
      "   -------------------- ------------------- 6.6/12.6 MB 2.3 MB/s eta 0:00:03\n",
      "   --------------------- ------------------ 6.8/12.6 MB 2.3 MB/s eta 0:00:03\n",
      "   ----------------------- ---------------- 7.3/12.6 MB 2.2 MB/s eta 0:00:03\n",
      "   ------------------------ --------------- 7.6/12.6 MB 2.2 MB/s eta 0:00:03\n",
      "   ------------------------ --------------- 7.6/12.6 MB 2.2 MB/s eta 0:00:03\n",
      "   ------------------------- -------------- 8.1/12.6 MB 2.1 MB/s eta 0:00:03\n",
      "   -------------------------- ------------- 8.4/12.6 MB 2.0 MB/s eta 0:00:03\n",
      "   --------------------------- ------------ 8.7/12.6 MB 2.0 MB/s eta 0:00:02\n",
      "   ---------------------------- ----------- 8.9/12.6 MB 1.9 MB/s eta 0:00:02\n",
      "   ---------------------------- ----------- 8.9/12.6 MB 1.9 MB/s eta 0:00:02\n",
      "   ----------------------------- ---------- 9.2/12.6 MB 1.8 MB/s eta 0:00:02\n",
      "   ------------------------------ --------- 9.7/12.6 MB 1.9 MB/s eta 0:00:02\n",
      "   ------------------------------- -------- 10.0/12.6 MB 1.8 MB/s eta 0:00:02\n",
      "   --------------------------------- ------ 10.5/12.6 MB 1.9 MB/s eta 0:00:02\n",
      "   ----------------------------------- ---- 11.3/12.6 MB 1.9 MB/s eta 0:00:01\n",
      "   -------------------------------------- - 12.1/12.6 MB 2.0 MB/s eta 0:00:01\n",
      "   ---------------------------------------  12.3/12.6 MB 2.0 MB/s eta 0:00:01\n",
      "   ---------------------------------------- 12.6/12.6 MB 2.0 MB/s eta 0:00:00\n",
      "Downloading pytz-2024.2-py2.py3-none-any.whl (508 kB)\n",
      "Downloading tzdata-2024.2-py2.py3-none-any.whl (346 kB)\n",
      "Installing collected packages: pytz, tzdata, numpy, pandas\n",
      "Successfully installed numpy-2.1.2 pandas-2.2.3 pytz-2024.2 tzdata-2024.2\n",
      "Note: you may need to restart the kernel to use updated packages.\n"
     ]
    }
   ],
   "source": [
    "pip install pandas"
   ]
  },
  {
   "cell_type": "code",
   "execution_count": 2,
   "id": "1e0d3ef2-daa1-4b3b-9eac-ec7253716626",
   "metadata": {},
   "outputs": [],
   "source": [
    "import pandas as pd"
   ]
  },
  {
   "cell_type": "code",
   "execution_count": 3,
   "id": "a149cfab-babd-4f19-a740-e94bee5ddb6e",
   "metadata": {},
   "outputs": [],
   "source": [
    "idioms_df = pd.read_csv('merged_data.csv')"
   ]
  },
  {
   "cell_type": "code",
   "execution_count": 8,
   "id": "500ce1ab-03f8-454d-8203-20a34ecd43ad",
   "metadata": {},
   "outputs": [],
   "source": [
    "from deep_translator import GoogleTranslator"
   ]
  },
  {
   "cell_type": "code",
   "execution_count": 21,
   "id": "3097e0ca-6c93-4e24-92bd-e3378b748952",
   "metadata": {},
   "outputs": [
    {
     "name": "stdout",
     "output_type": "stream",
     "text": [
      "to wave a red rag to a bull is to  deliberately provoke it more generally the expression denotes any deliberate action intended to bring about an adverse reaction\n"
     ]
    }
   ],
   "source": [
    "def detect_idiom(sentence):\n",
    "    idiom_row = idioms_df[idioms_df['idiom'].str.lower() == sentence.lower()]\n",
    "    \n",
    "    if not idiom_row.empty:\n",
    "        return True, idiom_row['def'].values[0]\n",
    "    return False, sentence\n",
    "\n",
    "# Step 3: Function to translate sentences\n",
    "def translate_sentence(sentence, target_language='en'):\n",
    "    translator = GoogleTranslator(source='auto', target=target_language)\n",
    "    \n",
    "    # Check if it's an idiom\n",
    "    is_idiom, output = detect_idiom(sentence)\n",
    "    \n",
    "    if is_idiom:\n",
    "        translated = translator.translate(output)\n",
    "        print(f\"{translated}\")\n",
    "        \n",
    "    else:\n",
    "        # Translate if it's not an idiom\n",
    "        translated = translator.translate(sentence)\n",
    "        print(f\"{translated}\")\n",
    "\n",
    "# Test with an idiom and a simple sentence\n",
    "translate_sentence(\"a red rag to a bull\")"
   ]
  },
  {
   "cell_type": "code",
   "execution_count": 18,
   "id": "d8094c19-796b-408b-a89f-c78aef6d33f1",
   "metadata": {},
   "outputs": [
    {
     "data": {
      "text/html": [
       "<div>\n",
       "<style scoped>\n",
       "    .dataframe tbody tr th:only-of-type {\n",
       "        vertical-align: middle;\n",
       "    }\n",
       "\n",
       "    .dataframe tbody tr th {\n",
       "        vertical-align: top;\n",
       "    }\n",
       "\n",
       "    .dataframe thead th {\n",
       "        text-align: right;\n",
       "    }\n",
       "</style>\n",
       "<table border=\"1\" class=\"dataframe\">\n",
       "  <thead>\n",
       "    <tr style=\"text-align: right;\">\n",
       "      <th></th>\n",
       "      <th>idiom</th>\n",
       "      <th>def</th>\n",
       "    </tr>\n",
       "  </thead>\n",
       "  <tbody>\n",
       "    <tr>\n",
       "      <th>0</th>\n",
       "      <td>a bird in the hand is worth two in the bush</td>\n",
       "      <td>having something that is certain is much bette...</td>\n",
       "    </tr>\n",
       "    <tr>\n",
       "      <th>1</th>\n",
       "      <td>a blessing in disguise</td>\n",
       "      <td>something good that isnt recognized at first</td>\n",
       "    </tr>\n",
       "    <tr>\n",
       "      <th>2</th>\n",
       "      <td>a chip on your shoulder</td>\n",
       "      <td>being upset for something that happened in the...</td>\n",
       "    </tr>\n",
       "    <tr>\n",
       "      <th>3</th>\n",
       "      <td>a dime a dozen</td>\n",
       "      <td>anything that is common and easy to get</td>\n",
       "    </tr>\n",
       "    <tr>\n",
       "      <th>4</th>\n",
       "      <td>a doubting thomas</td>\n",
       "      <td>a skeptic who needs personal evidence in order...</td>\n",
       "    </tr>\n",
       "  </tbody>\n",
       "</table>\n",
       "</div>"
      ],
      "text/plain": [
       "                                         idiom  \\\n",
       "0  a bird in the hand is worth two in the bush   \n",
       "1                       a blessing in disguise   \n",
       "2                      a chip on your shoulder   \n",
       "3                               a dime a dozen   \n",
       "4                            a doubting thomas   \n",
       "\n",
       "                                                 def  \n",
       "0  having something that is certain is much bette...  \n",
       "1       something good that isnt recognized at first  \n",
       "2  being upset for something that happened in the...  \n",
       "3            anything that is common and easy to get  \n",
       "4  a skeptic who needs personal evidence in order...  "
      ]
     },
     "execution_count": 18,
     "metadata": {},
     "output_type": "execute_result"
    }
   ],
   "source": [
    "idioms_df.head()"
   ]
  },
  {
   "cell_type": "code",
   "execution_count": null,
   "id": "06b9c52f-15dd-4235-bdfd-fcd9805a9b0c",
   "metadata": {},
   "outputs": [],
   "source": []
  }
 ],
 "metadata": {
  "kernelspec": {
   "display_name": "Python 3 (ipykernel)",
   "language": "python",
   "name": "python3"
  },
  "language_info": {
   "codemirror_mode": {
    "name": "ipython",
    "version": 3
   },
   "file_extension": ".py",
   "mimetype": "text/x-python",
   "name": "python",
   "nbconvert_exporter": "python",
   "pygments_lexer": "ipython3",
   "version": "3.12.7"
  }
 },
 "nbformat": 4,
 "nbformat_minor": 5
}
